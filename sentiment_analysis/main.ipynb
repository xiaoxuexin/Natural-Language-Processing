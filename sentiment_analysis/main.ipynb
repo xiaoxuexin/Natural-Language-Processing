{
 "cells": [
  {
   "cell_type": "markdown",
   "metadata": {},
   "source": [
    "# Tweeter Sentiment Analysis"
   ]
  },
  {
   "cell_type": "markdown",
   "metadata": {},
   "source": [
    "## Reference"
   ]
  },
  {
   "cell_type": "markdown",
   "metadata": {
    "collapsed": true
   },
   "source": [
    "https://arxiv.org/abs/1408.5882\n",
    "\n",
    "https://github.com/cmasch/cnn-text-classification"
   ]
  },
  {
   "cell_type": "code",
   "execution_count": 22,
   "metadata": {},
   "outputs": [],
   "source": [
    "import matplotlib.pyplot as plt\n",
    "import pandas as pd\n",
    "import numpy as np\n",
    "# import os\n",
    "import re\n",
    "import string\n",
    "import keras\n",
    "from nltk.corpus import stopwords\n",
    "from sklearn.model_selection import train_test_split\n",
    "plt.style.use('seaborn')"
   ]
  },
  {
   "cell_type": "markdown",
   "metadata": {
    "collapsed": true
   },
   "source": [
    "## Parameters Assignment"
   ]
  },
  {
   "cell_type": "code",
   "execution_count": 23,
   "metadata": {},
   "outputs": [],
   "source": [
    "MAX_NUM_WORDS     = 15000\n",
    "EMBEDDING_DIM     = 300\n",
    "MAX_SEQ_LENGTH    = 500\n",
    "USE_GLOVE         = True\n",
    "KERNEL_SIZES      = [3,4,5]\n",
    "FEATURE_MAPS      = [200,200,200]\n",
    "USE_CHAR          = False\n",
    "ALPHABET          = \"abcdefghijklmnopqrstuvwxyz0123456789-,;.!?:'\\\"/\\\\|_@#$%^&*~`+-=<>()[]{}\"\n",
    "ALPHABET_SIZE     = len(ALPHABET)\n",
    "CHAR_MAX_LENGTH   = 1600\n",
    "CHAR_KERNEL_SIZES = [5,10,20]\n",
    "CHAR_FEATURE_MAPS = [300,300,300]\n",
    "\n",
    "DROPOUT_RATE      = 0.4\n",
    "HIDDEN_UNITS      = 200\n",
    "NB_CLASSES        = 2\n",
    "\n",
    "BATCH_SIZE        = 100\n",
    "NB_EPOCHS         = 5\n",
    "RUNS              = 1\n",
    "VAL_SIZE          = 0.2"
   ]
  },
  {
   "cell_type": "markdown",
   "metadata": {},
   "source": [
    "## Pre-process the Data"
   ]
  },
  {
   "cell_type": "code",
   "execution_count": 24,
   "metadata": {},
   "outputs": [],
   "source": [
    "def clean_doc(doc):\n",
    "    \"\"\"\n",
    "    Cleaning a document by several methods:\n",
    "        - Lowercase\n",
    "        - Removing whitespaces\n",
    "        - Removing numbers\n",
    "        - Removing stopwords\n",
    "        - Removing punctuations\n",
    "        - Removing short words\n",
    "    \"\"\"\n",
    "    # stop_words = set(stopwords.words('english'))\n",
    "\n",
    "    # Lowercase\n",
    "    doc = doc.lower()\n",
    "    # Remove numbers\n",
    "    doc = re.sub(r\"[0-9]+\", \"\", doc)\n",
    "    # Split in tokens\n",
    "    tokens = doc.split()\n",
    "    # Remove Stopwords\n",
    "    tokens = [w for w in tokens if not w in stop_words]\n",
    "    # Remove punctuation\n",
    "    tokens = [w.translate(str.maketrans('', '', string.punctuation)) for w in tokens]\n",
    "    # Tokens with less then two characters will be ignored\n",
    "    tokens = [word for word in tokens if len(word) > 1]\n",
    "    return ' '.join(tokens)\n",
    "\n",
    "\n",
    "def read_files(file_name):\n",
    "    labels = []\n",
    "    # Read in all files in directory\n",
    "    data = pd.read_csv(file_name)\n",
    "    doc = data['Text'].tolist()\n",
    "    labels = data['Label'].tolist()\n",
    "    X_train, X_test, y_train, y_test = train_test_split(doc, labels, test_size = 0.33, random_state = 42)\n",
    "    return X_train, X_test, y_train, y_test"
   ]
  },
  {
   "cell_type": "code",
   "execution_count": 25,
   "metadata": {},
   "outputs": [
    {
     "name": "stdout",
     "output_type": "stream",
     "text": [
      "Training samples: 5782\n"
     ]
    }
   ],
   "source": [
    "X_train, X_test, y_train, y_test = read_files('tweets_data.csv')\n",
    "\n",
    "y_train = keras.utils.to_categorical(y_train)\n",
    "print('Training samples: %i' % len(X_train))"
   ]
  },
  {
   "cell_type": "markdown",
   "metadata": {},
   "source": [
    "## Preprocessing for word-based model"
   ]
  },
  {
   "cell_type": "code",
   "execution_count": 26,
   "metadata": {},
   "outputs": [
    {
     "data": {
      "image/png": "[encoded data removed]",
      "text/plain": [
       "<Figure size 1440x360 with 1 Axes>"
      ]
     },
     "metadata": {},
     "output_type": "display_data"
    },
    {
     "name": "stdout",
     "output_type": "stream",
     "text": [
      "Text informations:\n",
      "max length: 94 / min length: 1 / mean length: 30 / limit length: 500\n",
      "vacobulary size: 16456 / limit: 15000\n"
     ]
    }
   ],
   "source": [
    "tokenizer = keras.preprocessing.text.Tokenizer(num_words=MAX_NUM_WORDS)\n",
    "tokenizer.fit_on_texts(X_train)\n",
    "sequences = tokenizer.texts_to_sequences(X_train)\n",
    "\n",
    "word_index = tokenizer.word_index\n",
    "\n",
    "result = [len(x.split()) for x in X_train]\n",
    "\n",
    "# Plot histogram\n",
    "plt.figure(figsize=(20,5))\n",
    "plt.title('Document length')\n",
    "plt.hist(result, 200, density=False, range=(0,np.max(result)))\n",
    "plt.show()\n",
    "\n",
    "\n",
    "print('Text informations:')\n",
    "print('max length: %i / min length: %i / mean length: %i / limit length: %i' % (np.max(result),\n",
    "                                                                                np.min(result),\n",
    "                                                                                np.mean(result),\n",
    "                                                                                MAX_SEQ_LENGTH))\n",
    "print('vacobulary size: %i / limit: %i' % (len(word_index), MAX_NUM_WORDS))\n",
    "\n",
    "# Padding all sequences to same length of `MAX_SEQ_LENGTH`\n",
    "word_data = keras.preprocessing.sequence.pad_sequences(sequences, maxlen=MAX_SEQ_LENGTH, padding='post')\n"
   ]
  },
  {
   "cell_type": "markdown",
   "metadata": {},
   "source": [
    "## Embedding"
   ]
  },
  {
   "cell_type": "code",
   "execution_count": 27,
   "metadata": {},
   "outputs": [],
   "source": [
    "def create_glove_embeddings():\n",
    "    print('Pretrained embeddings GloVe is loading...')\n",
    "\n",
    "    embeddings_index = {}\n",
    "    f = open('glove.6B.%id.txt' % EMBEDDING_DIM)\n",
    "    for line in f:\n",
    "        values = line.split()\n",
    "        word = values[0]\n",
    "        coefs = np.asarray(values[1:], dtype='float32')\n",
    "        embeddings_index[word] = coefs\n",
    "    f.close()\n",
    "    print('Found %s word vectors in GloVe embedding' % len(embeddings_index))\n",
    "\n",
    "    embedding_matrix = np.zeros((MAX_NUM_WORDS, EMBEDDING_DIM))\n",
    "\n",
    "    for word, i in tokenizer.word_index.items():\n",
    "        if i >= MAX_NUM_WORDS:\n",
    "            continue\n",
    "        embedding_vector = embeddings_index.get(word)\n",
    "        if embedding_vector is not None:\n",
    "            embedding_matrix[i] = embedding_vector\n",
    "\n",
    "    return keras.layers.Embedding(\n",
    "        input_dim=MAX_NUM_WORDS,\n",
    "        output_dim=EMBEDDING_DIM,\n",
    "        input_length=MAX_SEQ_LENGTH,\n",
    "        weights=[embedding_matrix],\n",
    "        trainable=True,\n",
    "        name=\"word_embedding\"\n",
    "    )\n"
   ]
  },
  {
   "cell_type": "markdown",
   "metadata": {},
   "source": [
    "## Training"
   ]
  },
  {
   "cell_type": "code",
   "execution_count": 28,
   "metadata": {},
   "outputs": [
    {
     "name": "stdout",
     "output_type": "stream",
     "text": [
      "Running iteration 1/1\n",
      "Pretrained embeddings GloVe is loading...\n",
      "Found 400000 word vectors in GloVe embedding\n",
      "Train on 4625 samples, validate on 1157 samples\n",
      "Epoch 1/5\n",
      "4625/4625 [==============================] - 264s 57ms/step - loss: 0.0787 - acc: 0.9844 - val_loss: 0.0219 - val_acc: 0.9965\n",
      "\n",
      "Epoch 00001: val_loss improved from inf to 0.02192, saving model to model-1.h5\n",
      "Epoch 2/5\n",
      "4625/4625 [==============================] - 256s 55ms/step - loss: 0.0366 - acc: 0.9937 - val_loss: 0.0267 - val_acc: 0.9965\n",
      "\n",
      "Epoch 00002: val_loss did not improve from 0.02192\n",
      "Epoch 3/5\n",
      "4625/4625 [==============================] - 252s 55ms/step - loss: 0.0343 - acc: 0.9937 - val_loss: 0.0265 - val_acc: 0.9965\n",
      "\n",
      "Epoch 00003: val_loss did not improve from 0.02192\n",
      "Epoch 4/5\n",
      "4625/4625 [==============================] - 264s 57ms/step - loss: 0.0322 - acc: 0.9937 - val_loss: 0.0265 - val_acc: 0.9965\n",
      "\n",
      "Epoch 00004: val_loss did not improve from 0.02192\n",
      "Epoch 5/5\n",
      "4625/4625 [==============================] - 258s 56ms/step - loss: 0.0308 - acc: 0.9937 - val_loss: 0.0225 - val_acc: 0.9965\n",
      "\n",
      "Epoch 00005: val_loss did not improve from 0.02192\n",
      "\n"
     ]
    }
   ],
   "source": [
    "from cnn_model import CNN\n",
    "\n",
    "histories = []\n",
    "\n",
    "for i in range(RUNS):\n",
    "    print('Running iteration %i/%i' % (i + 1, RUNS))\n",
    "    random_state = np.random.randint(1000)\n",
    "\n",
    "    X_train, X_val, y_train, y_val = train_test_split(word_data, y_train, test_size=VAL_SIZE, random_state=random_state)\n",
    "\n",
    "    \n",
    "    emb_layer = None\n",
    "    if USE_GLOVE:\n",
    "        emb_layer = create_glove_embeddings()\n",
    "\n",
    "    model = CNN(\n",
    "        embedding_layer=emb_layer,\n",
    "        num_words=MAX_NUM_WORDS,\n",
    "        embedding_dim=EMBEDDING_DIM,\n",
    "        kernel_sizes=KERNEL_SIZES,\n",
    "        feature_maps=FEATURE_MAPS,\n",
    "        max_seq_length=MAX_SEQ_LENGTH,\n",
    "        use_char=USE_CHAR,\n",
    "        char_max_length=CHAR_MAX_LENGTH,\n",
    "        alphabet_size=ALPHABET_SIZE,\n",
    "        char_kernel_sizes=CHAR_KERNEL_SIZES,\n",
    "        char_feature_maps=CHAR_FEATURE_MAPS,\n",
    "        dropout_rate=DROPOUT_RATE,\n",
    "        hidden_units=HIDDEN_UNITS,\n",
    "        nb_classes=NB_CLASSES\n",
    "    ).build_model()\n",
    "\n",
    "    model.compile(\n",
    "        loss='categorical_crossentropy',\n",
    "        optimizer=keras.optimizers.Adam(),\n",
    "        metrics=['accuracy']\n",
    "    )\n",
    "\n",
    "    # model.summary()\n",
    "\n",
    "    history = model.fit(\n",
    "        X_train, y_train,\n",
    "        epochs=NB_EPOCHS,\n",
    "        batch_size=BATCH_SIZE,\n",
    "        validation_data=(X_val, y_val),\n",
    "        callbacks=[\n",
    "            keras.callbacks.ModelCheckpoint(\n",
    "                'model-%i.h5' % (i + 1), monitor='val_loss', verbose=1, save_best_only=True, mode='min'\n",
    "            ),\n",
    "            # keras.callbacks.TensorBoard(log_dir='./logs/temp', write_graph=True)\n",
    "        ]\n",
    "    )\n",
    "    print()\n",
    "    histories.append(history.history)"
   ]
  },
  {
   "cell_type": "markdown",
   "metadata": {},
   "source": [
    "## Evaluation"
   ]
  },
  {
   "cell_type": "code",
   "execution_count": 29,
   "metadata": {},
   "outputs": [
    {
     "name": "stdout",
     "output_type": "stream",
     "text": [
      "Training: \t0.0787 loss / 0.9844 acc\n",
      "Validation: \t0.0219 loss / 0.9965 acc\n"
     ]
    }
   ],
   "source": [
    "def get_avg(histories, his_key):\n",
    "    tmp = []\n",
    "    for history in histories:\n",
    "        tmp.append(history[his_key][np.argmin(history['val_loss'])])\n",
    "    return np.mean(tmp)\n",
    "\n",
    "\n",
    "print('Training: \\t%0.4f loss / %0.4f acc' % (get_avg(histories, 'loss'),\n",
    "                                              get_avg(histories, 'acc')))\n",
    "print('Validation: \\t%0.4f loss / %0.4f acc' % (get_avg(histories, 'val_loss'),\n",
    "                                                get_avg(histories, 'val_acc')))\n"
   ]
  },
  {
   "cell_type": "code",
   "execution_count": 30,
   "metadata": {},
   "outputs": [
    {
     "data": {
      "image/png": "[encoded data removed]",
      "text/plain": [
       "<Figure size 1440x360 with 2 Axes>"
      ]
     },
     "metadata": {},
     "output_type": "display_data"
    },
    {
     "data": {
      "image/png": "[encoded data removed]",
      "text/plain": [
       "<Figure size 1440x360 with 2 Axes>"
      ]
     },
     "metadata": {},
     "output_type": "display_data"
    }
   ],
   "source": [
    "def plot_acc_loss(title, histories, key_acc, key_loss):\n",
    "    fig, (ax1, ax2) = plt.subplots(1, 2)\n",
    "    # Accuracy\n",
    "    ax1.set_title('Model accuracy (%s)' % title)\n",
    "    names = []\n",
    "    for i, model in enumerate(histories):\n",
    "        ax1.plot(model[key_acc])\n",
    "        ax1.set_xlabel('epoch')\n",
    "        names.append('Model %i' % (i+1))\n",
    "        ax1.set_ylabel('accuracy')\n",
    "    ax1.legend(names, loc='lower right')\n",
    "    # Loss\n",
    "    ax2.set_title('Model loss (%s)' % title)\n",
    "    for model in histories:\n",
    "        ax2.plot(model[key_loss])\n",
    "        ax2.set_xlabel('epoch')\n",
    "        ax2.set_ylabel('loss')\n",
    "    ax2.legend(names, loc='upper right')\n",
    "    fig.set_size_inches(20, 5)\n",
    "    plt.show()\n",
    "\n",
    "\n",
    "plot_acc_loss('training', histories, 'acc', 'loss')\n",
    "plot_acc_loss('validation', histories, 'val_acc', 'val_loss')"
   ]
  },
  {
   "cell_type": "markdown",
   "metadata": {},
   "source": [
    "## Test"
   ]
  },
  {
   "cell_type": "code",
   "execution_count": 31,
   "metadata": {},
   "outputs": [],
   "source": [
    "y_test = keras.utils.to_categorical(y_test)\n",
    "tokenizer = keras.preprocessing.text.Tokenizer(num_words=MAX_NUM_WORDS)\n",
    "tokenizer.fit_on_texts(X_test)\n",
    "sequences_test = tokenizer.texts_to_sequences(X_test)\n",
    "X_test_word = keras.preprocessing.sequence.pad_sequences(sequences_test, maxlen=MAX_SEQ_LENGTH, padding='post')\n"
   ]
  },
  {
   "cell_type": "code",
   "execution_count": 32,
   "metadata": {},
   "outputs": [
    {
     "name": "stdout",
     "output_type": "stream",
     "text": [
      "2848/2848 [==============================] - 33s 11ms/step\n",
      "Running test with model 1: 0.0330 loss / 0.9947 acc\n",
      "\n",
      "Average loss / accuracy on testset: 0.0330 loss / 0.9947 acc\n",
      "Standard deviation: (+-0.0000) loss / (+-0.0000) acc\n"
     ]
    }
   ],
   "source": [
    "test_loss = []\n",
    "test_accs = []\n",
    "\n",
    "for i in range(0, RUNS):\n",
    "    cnn_ = keras.models.load_model(\"model-%i.h5\" % (i + 1))\n",
    "    score = cnn_.evaluate(X_test_word, y_test, verbose=1)\n",
    "    test_loss.append(score[0])\n",
    "    test_accs.append(score[1])\n",
    "\n",
    "    print('Running test with model %i: %0.4f loss / %0.4f acc' % (i + 1, score[0], score[1]))\n",
    "\n",
    "print('\\nAverage loss / accuracy on testset: %0.4f loss / %0.4f acc' % (np.mean(test_loss),\n",
    "                                                                        np.mean(test_accs)))\n",
    "print('Standard deviation: (+-%0.4f) loss / (+-%0.4f) acc' % (np.std(test_loss), np.std(test_accs)))\n"
   ]
  },
  {
   "cell_type": "code",
   "execution_count": null,
   "metadata": {},
   "outputs": [],
   "source": []
  }
 ],
 "metadata": {
  "kernelspec": {
   "display_name": "Python 3",
   "language": "python",
   "name": "python3"
  },
  "language_info": {
   "codemirror_mode": {
    "name": "ipython",
    "version": 3
   },
   "file_extension": ".py",
   "mimetype": "text/x-python",
   "name": "python",
   "nbconvert_exporter": "python",
   "pygments_lexer": "ipython3",
   "version": "3.6.9"
  }
 },
 "nbformat": 4,
 "nbformat_minor": 2
}
